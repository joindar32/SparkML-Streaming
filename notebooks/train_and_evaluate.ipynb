{
  "nbformat": 4,
  "nbformat_minor": 0,
  "metadata": {
    "colab": {
      "provenance": []
    },
    "kernelspec": {
      "name": "python3",
      "display_name": "Python 3"
    },
    "language_info": {
      "name": "python"
    }
  },
  "cells": [
    {
      "cell_type": "code",
      "execution_count": null,
      "metadata": {
        "colab": {
          "base_uri": "https://localhost:8080/"
        },
        "id": "QtTbWF32p8PF",
        "outputId": "aad02369-2103-48f7-92bd-8be11c2afb00"
      },
      "outputs": [
        {
          "output_type": "stream",
          "name": "stdout",
          "text": [
            "Collecting pyspark\n",
            "  Downloading pyspark-3.5.2.tar.gz (317.3 MB)\n",
            "\u001b[2K     \u001b[90m━━━━━━━━━━━━━━━━━━━━━━━━━━━━━━━━━━━━━━━━\u001b[0m \u001b[32m317.3/317.3 MB\u001b[0m \u001b[31m4.1 MB/s\u001b[0m eta \u001b[36m0:00:00\u001b[0m\n",
            "\u001b[?25h  Preparing metadata (setup.py) ... \u001b[?25l\u001b[?25hdone\n",
            "Requirement already satisfied: py4j==0.10.9.7 in /usr/local/lib/python3.10/dist-packages (from pyspark) (0.10.9.7)\n",
            "Building wheels for collected packages: pyspark\n",
            "  Building wheel for pyspark (setup.py) ... \u001b[?25l\u001b[?25hdone\n",
            "  Created wheel for pyspark: filename=pyspark-3.5.2-py2.py3-none-any.whl size=317812365 sha256=b1444cf62af39aa43c313f954bf02e46748e65e29e1918b25dcd330bab71792a\n",
            "  Stored in directory: /root/.cache/pip/wheels/34/34/bd/03944534c44b677cd5859f248090daa9fb27b3c8f8e5f49574\n",
            "Successfully built pyspark\n",
            "Installing collected packages: pyspark\n",
            "Successfully installed pyspark-3.5.2\n"
          ]
        }
      ],
      "source": [
        "!pip install pyspark"
      ]
    },
    {
      "cell_type": "code",
      "source": [
        "from pyspark.sql import SparkSession\n",
        "from pyspark.ml import Pipeline\n",
        "from pyspark.ml.feature import StringIndexer, VectorAssembler\n",
        "from pyspark.ml.classification import GBTClassifier\n",
        "from pyspark.ml.regression import RandomForestRegressor\n",
        "from pyspark.ml.evaluation import RegressionEvaluator\n",
        "from pyspark.sql.functions import regexp_extract, regexp_replace, split, round, col, format_number, array_contains\n",
        "from pyspark.sql.types import IntegerType, FloatType\n",
        "from pyspark.ml.classification import RandomForestClassifier\n",
        "from pyspark.ml.evaluation import MulticlassClassificationEvaluator\n",
        "from pyspark.ml.classification import LogisticRegression\n",
        "\n",
        "\n"
      ],
      "metadata": {
        "id": "x4gPcuu7qEMV"
      },
      "execution_count": null,
      "outputs": []
    },
    {
      "cell_type": "code",
      "source": [
        "spark = SparkSession.builder.appName(\"PySparkJob\").getOrCreate()"
      ],
      "metadata": {
        "id": "zdslVSbPqJQi"
      },
      "execution_count": null,
      "outputs": []
    },
    {
      "cell_type": "code",
      "source": [
        "phones = spark.read.format(\"csv\").option(\"header\", \"true\").load(\"train.csv\")"
      ],
      "metadata": {
        "id": "CUTOvA-WqMwm"
      },
      "execution_count": null,
      "outputs": []
    },
    {
      "cell_type": "code",
      "source": [
        "phones.show()"
      ],
      "metadata": {
        "id": "yIvJqnEcw15c",
        "outputId": "d7b1cc0b-8c6c-4ca9-eb71-c8f3120df927",
        "colab": {
          "base_uri": "https://localhost:8080/"
        }
      },
      "execution_count": null,
      "outputs": [
        {
          "output_type": "stream",
          "name": "stdout",
          "text": [
            "+-------------+----+-----------+--------+---+------+----------+-----+---------+-------+---+---------+--------+----+----+----+---------+-------+------------+----+-----------+\n",
            "|battery_power|blue|clock_speed|dual_sim| fc|four_g|int_memory|m_dep|mobile_wt|n_cores| pc|px_height|px_width| ram|sc_h|sc_w|talk_time|three_g|touch_screen|wifi|price_range|\n",
            "+-------------+----+-----------+--------+---+------+----------+-----+---------+-------+---+---------+--------+----+----+----+---------+-------+------------+----+-----------+\n",
            "|          842|   0|        2.2|       0|  1|     0|         7|  0.6|      188|      2|  2|       20|     756|2549|   9|   7|       19|      0|           0|   1|          1|\n",
            "|         1021|   1|        0.5|       1|  0|     1|        53|  0.7|      136|      3|  6|      905|    1988|2631|  17|   3|        7|      1|           1|   0|          2|\n",
            "|          563|   1|        0.5|       1|  2|     1|        41|  0.9|      145|      5|  6|     1263|    1716|2603|  11|   2|        9|      1|           1|   0|          2|\n",
            "|          615|   1|        2.5|       0|  0|     0|        10|  0.8|      131|      6|  9|     1216|    1786|2769|  16|   8|       11|      1|           0|   0|          2|\n",
            "|         1821|   1|        1.2|       0| 13|     1|        44|  0.6|      141|      2| 14|     1208|    1212|1411|   8|   2|       15|      1|           1|   0|          1|\n",
            "|         1859|   0|        0.5|       1|  3|     0|        22|  0.7|      164|      1|  7|     1004|    1654|1067|  17|   1|       10|      1|           0|   0|          1|\n",
            "|         1821|   0|        1.7|       0|  4|     1|        10|  0.8|      139|      8| 10|      381|    1018|3220|  13|   8|       18|      1|           0|   1|          3|\n",
            "|         1954|   0|        0.5|       1|  0|     0|        24|  0.8|      187|      4|  0|      512|    1149| 700|  16|   3|        5|      1|           1|   1|          0|\n",
            "|         1445|   1|        0.5|       0|  0|     0|        53|  0.7|      174|      7| 14|      386|     836|1099|  17|   1|       20|      1|           0|   0|          0|\n",
            "|          509|   1|        0.6|       1|  2|     1|         9|  0.1|       93|      5| 15|     1137|    1224| 513|  19|  10|       12|      1|           0|   0|          0|\n",
            "|          769|   1|        2.9|       1|  0|     0|         9|  0.1|      182|      5|  1|      248|     874|3946|   5|   2|        7|      0|           0|   0|          3|\n",
            "|         1520|   1|        2.2|       0|  5|     1|        33|  0.5|      177|      8| 18|      151|    1005|3826|  14|   9|       13|      1|           1|   1|          3|\n",
            "|         1815|   0|        2.8|       0|  2|     0|        33|  0.6|      159|      4| 17|      607|     748|1482|  18|   0|        2|      1|           0|   0|          1|\n",
            "|          803|   1|        2.1|       0|  7|     0|        17|  1.0|      198|      4| 11|      344|    1440|2680|   7|   1|        4|      1|           0|   1|          2|\n",
            "|         1866|   0|        0.5|       0| 13|     1|        52|  0.7|      185|      1| 17|      356|     563| 373|  14|   9|        3|      1|           0|   1|          0|\n",
            "|          775|   0|        1.0|       0|  3|     0|        46|  0.7|      159|      2| 16|      862|    1864| 568|  17|  15|       11|      1|           1|   1|          0|\n",
            "|          838|   0|        0.5|       0|  1|     1|        13|  0.1|      196|      8|  4|      984|    1850|3554|  10|   9|       19|      1|           0|   1|          3|\n",
            "|          595|   0|        0.9|       1|  7|     1|        23|  0.1|      121|      3| 17|      441|     810|3752|  10|   2|       18|      1|           1|   0|          3|\n",
            "|         1131|   1|        0.5|       1| 11|     0|        49|  0.6|      101|      5| 18|      658|     878|1835|  19|  13|       16|      1|           1|   0|          1|\n",
            "|          682|   1|        0.5|       0|  4|     0|        19|  1.0|      121|      4| 11|      902|    1064|2337|  11|   1|       18|      0|           1|   1|          1|\n",
            "+-------------+----+-----------+--------+---+------+----------+-----+---------+-------+---+---------+--------+----+----+----+---------+-------+------------+----+-----------+\n",
            "only showing top 20 rows\n",
            "\n"
          ]
        }
      ]
    },
    {
      "cell_type": "code",
      "source": [
        "phones.columns"
      ],
      "metadata": {
        "id": "D9ZbuHTQZlka",
        "outputId": "63911264-f383-44fc-b914-081dccfdd8ec",
        "colab": {
          "base_uri": "https://localhost:8080/"
        }
      },
      "execution_count": null,
      "outputs": [
        {
          "output_type": "execute_result",
          "data": {
            "text/plain": [
              "['battery_power',\n",
              " 'blue',\n",
              " 'clock_speed',\n",
              " 'dual_sim',\n",
              " 'fc',\n",
              " 'four_g',\n",
              " 'int_memory',\n",
              " 'm_dep',\n",
              " 'mobile_wt',\n",
              " 'n_cores',\n",
              " 'pc',\n",
              " 'px_height',\n",
              " 'px_width',\n",
              " 'ram',\n",
              " 'sc_h',\n",
              " 'sc_w',\n",
              " 'talk_time',\n",
              " 'three_g',\n",
              " 'touch_screen',\n",
              " 'wifi',\n",
              " 'price_range']"
            ]
          },
          "metadata": {},
          "execution_count": 7
        }
      ]
    },
    {
      "cell_type": "code",
      "source": [
        "phones.schema"
      ],
      "metadata": {
        "colab": {
          "base_uri": "https://localhost:8080/"
        },
        "id": "6KSAHMjM1QEC",
        "outputId": "57e68bdf-70eb-479d-eabf-b6768e3e93ea"
      },
      "execution_count": null,
      "outputs": [
        {
          "output_type": "execute_result",
          "data": {
            "text/plain": [
              "StructType([StructField('battery_power', StringType(), True), StructField('blue', StringType(), True), StructField('clock_speed', StringType(), True), StructField('dual_sim', StringType(), True), StructField('fc', StringType(), True), StructField('four_g', StringType(), True), StructField('int_memory', StringType(), True), StructField('m_dep', StringType(), True), StructField('mobile_wt', StringType(), True), StructField('n_cores', StringType(), True), StructField('pc', StringType(), True), StructField('px_height', StringType(), True), StructField('px_width', StringType(), True), StructField('ram', StringType(), True), StructField('sc_h', StringType(), True), StructField('sc_w', StringType(), True), StructField('talk_time', StringType(), True), StructField('three_g', StringType(), True), StructField('touch_screen', StringType(), True), StructField('wifi', StringType(), True), StructField('price_range', StringType(), True)])"
            ]
          },
          "metadata": {},
          "execution_count": 8
        }
      ]
    },
    {
      "cell_type": "code",
      "source": [
        "for col_name in phones.columns:\n",
        "  if col_name in ['clock_speed', 'm_dep']:\n",
        "    phones = phones.withColumn(col_name, phones[col_name].cast(FloatType()))\n",
        "  else:\n",
        "    phones = phones.withColumn(col_name, phones[col_name].cast(IntegerType()))"
      ],
      "metadata": {
        "id": "kptoZd-Yfod6"
      },
      "execution_count": null,
      "outputs": []
    },
    {
      "cell_type": "code",
      "source": [
        "phones.schema"
      ],
      "metadata": {
        "id": "3o_d2vnZf2fc",
        "outputId": "9d5dc3ab-12c7-4fa1-ddd9-7633856f1f86",
        "colab": {
          "base_uri": "https://localhost:8080/"
        }
      },
      "execution_count": null,
      "outputs": [
        {
          "output_type": "execute_result",
          "data": {
            "text/plain": [
              "StructType([StructField('battery_power', IntegerType(), True), StructField('blue', IntegerType(), True), StructField('clock_speed', FloatType(), True), StructField('dual_sim', IntegerType(), True), StructField('fc', IntegerType(), True), StructField('four_g', IntegerType(), True), StructField('int_memory', IntegerType(), True), StructField('m_dep', FloatType(), True), StructField('mobile_wt', IntegerType(), True), StructField('n_cores', IntegerType(), True), StructField('pc', IntegerType(), True), StructField('px_height', IntegerType(), True), StructField('px_width', IntegerType(), True), StructField('ram', IntegerType(), True), StructField('sc_h', IntegerType(), True), StructField('sc_w', IntegerType(), True), StructField('talk_time', IntegerType(), True), StructField('three_g', IntegerType(), True), StructField('touch_screen', IntegerType(), True), StructField('wifi', IntegerType(), True), StructField('price_range', IntegerType(), True)])"
            ]
          },
          "metadata": {},
          "execution_count": 10
        }
      ]
    },
    {
      "cell_type": "code",
      "source": [
        "phones.show()"
      ],
      "metadata": {
        "id": "0BRFTsl4f5L6",
        "outputId": "6abf62b8-1978-4c54-a959-0b678e39d264",
        "colab": {
          "base_uri": "https://localhost:8080/"
        }
      },
      "execution_count": null,
      "outputs": [
        {
          "output_type": "stream",
          "name": "stdout",
          "text": [
            "+-------------+----+-----------+--------+---+------+----------+-----+---------+-------+---+---------+--------+----+----+----+---------+-------+------------+----+-----------+\n",
            "|battery_power|blue|clock_speed|dual_sim| fc|four_g|int_memory|m_dep|mobile_wt|n_cores| pc|px_height|px_width| ram|sc_h|sc_w|talk_time|three_g|touch_screen|wifi|price_range|\n",
            "+-------------+----+-----------+--------+---+------+----------+-----+---------+-------+---+---------+--------+----+----+----+---------+-------+------------+----+-----------+\n",
            "|          842|   0|        2.2|       0|  1|     0|         7|  0.6|      188|      2|  2|       20|     756|2549|   9|   7|       19|      0|           0|   1|          1|\n",
            "|         1021|   1|        0.5|       1|  0|     1|        53|  0.7|      136|      3|  6|      905|    1988|2631|  17|   3|        7|      1|           1|   0|          2|\n",
            "|          563|   1|        0.5|       1|  2|     1|        41|  0.9|      145|      5|  6|     1263|    1716|2603|  11|   2|        9|      1|           1|   0|          2|\n",
            "|          615|   1|        2.5|       0|  0|     0|        10|  0.8|      131|      6|  9|     1216|    1786|2769|  16|   8|       11|      1|           0|   0|          2|\n",
            "|         1821|   1|        1.2|       0| 13|     1|        44|  0.6|      141|      2| 14|     1208|    1212|1411|   8|   2|       15|      1|           1|   0|          1|\n",
            "|         1859|   0|        0.5|       1|  3|     0|        22|  0.7|      164|      1|  7|     1004|    1654|1067|  17|   1|       10|      1|           0|   0|          1|\n",
            "|         1821|   0|        1.7|       0|  4|     1|        10|  0.8|      139|      8| 10|      381|    1018|3220|  13|   8|       18|      1|           0|   1|          3|\n",
            "|         1954|   0|        0.5|       1|  0|     0|        24|  0.8|      187|      4|  0|      512|    1149| 700|  16|   3|        5|      1|           1|   1|          0|\n",
            "|         1445|   1|        0.5|       0|  0|     0|        53|  0.7|      174|      7| 14|      386|     836|1099|  17|   1|       20|      1|           0|   0|          0|\n",
            "|          509|   1|        0.6|       1|  2|     1|         9|  0.1|       93|      5| 15|     1137|    1224| 513|  19|  10|       12|      1|           0|   0|          0|\n",
            "|          769|   1|        2.9|       1|  0|     0|         9|  0.1|      182|      5|  1|      248|     874|3946|   5|   2|        7|      0|           0|   0|          3|\n",
            "|         1520|   1|        2.2|       0|  5|     1|        33|  0.5|      177|      8| 18|      151|    1005|3826|  14|   9|       13|      1|           1|   1|          3|\n",
            "|         1815|   0|        2.8|       0|  2|     0|        33|  0.6|      159|      4| 17|      607|     748|1482|  18|   0|        2|      1|           0|   0|          1|\n",
            "|          803|   1|        2.1|       0|  7|     0|        17|  1.0|      198|      4| 11|      344|    1440|2680|   7|   1|        4|      1|           0|   1|          2|\n",
            "|         1866|   0|        0.5|       0| 13|     1|        52|  0.7|      185|      1| 17|      356|     563| 373|  14|   9|        3|      1|           0|   1|          0|\n",
            "|          775|   0|        1.0|       0|  3|     0|        46|  0.7|      159|      2| 16|      862|    1864| 568|  17|  15|       11|      1|           1|   1|          0|\n",
            "|          838|   0|        0.5|       0|  1|     1|        13|  0.1|      196|      8|  4|      984|    1850|3554|  10|   9|       19|      1|           0|   1|          3|\n",
            "|          595|   0|        0.9|       1|  7|     1|        23|  0.1|      121|      3| 17|      441|     810|3752|  10|   2|       18|      1|           1|   0|          3|\n",
            "|         1131|   1|        0.5|       1| 11|     0|        49|  0.6|      101|      5| 18|      658|     878|1835|  19|  13|       16|      1|           1|   0|          1|\n",
            "|          682|   1|        0.5|       0|  4|     0|        19|  1.0|      121|      4| 11|      902|    1064|2337|  11|   1|       18|      0|           1|   1|          1|\n",
            "+-------------+----+-----------+--------+---+------+----------+-----+---------+-------+---+---------+--------+----+----+----+---------+-------+------------+----+-----------+\n",
            "only showing top 20 rows\n",
            "\n"
          ]
        }
      ]
    },
    {
      "cell_type": "code",
      "source": [
        "feature_columns = ['battery_power','blue','clock_speed','dual_sim','fc','four_g',\\\n",
        "                   'int_memory','m_dep','mobile_wt','n_cores','pc','px_height','px_width', \\\n",
        "                   'ram','sc_h','sc_w','talk_time','three_g','touch_screen','wifi']\n",
        "assembler = VectorAssembler(inputCols=feature_columns, outputCol=\"features\")"
      ],
      "metadata": {
        "id": "DUqW8qDc2ryI"
      },
      "execution_count": null,
      "outputs": []
    },
    {
      "cell_type": "code",
      "source": [
        "phones = phones.na.drop(\"any\")"
      ],
      "metadata": {
        "id": "tDeD3a1IbkYI"
      },
      "execution_count": null,
      "outputs": []
    },
    {
      "cell_type": "code",
      "source": [
        "train_df, test_df, test2_df = phones.randomSplit([0.5, 0.3, 0.2], seed=42)"
      ],
      "metadata": {
        "id": "382qZuRgrIB8"
      },
      "execution_count": null,
      "outputs": []
    },
    {
      "cell_type": "code",
      "source": [
        "test_df.schema"
      ],
      "metadata": {
        "id": "duKCfkgybj6K",
        "colab": {
          "base_uri": "https://localhost:8080/"
        },
        "outputId": "a152d807-8e7f-4418-cccb-116cc28f6ec7"
      },
      "execution_count": null,
      "outputs": [
        {
          "output_type": "execute_result",
          "data": {
            "text/plain": [
              "StructType([StructField('battery_power', IntegerType(), True), StructField('blue', IntegerType(), True), StructField('clock_speed', FloatType(), True), StructField('dual_sim', IntegerType(), True), StructField('fc', IntegerType(), True), StructField('four_g', IntegerType(), True), StructField('int_memory', IntegerType(), True), StructField('m_dep', FloatType(), True), StructField('mobile_wt', IntegerType(), True), StructField('n_cores', IntegerType(), True), StructField('pc', IntegerType(), True), StructField('px_height', IntegerType(), True), StructField('px_width', IntegerType(), True), StructField('ram', IntegerType(), True), StructField('sc_h', IntegerType(), True), StructField('sc_w', IntegerType(), True), StructField('talk_time', IntegerType(), True), StructField('three_g', IntegerType(), True), StructField('touch_screen', IntegerType(), True), StructField('wifi', IntegerType(), True), StructField('price_range', IntegerType(), True)])"
            ]
          },
          "metadata": {},
          "execution_count": 15
        }
      ]
    },
    {
      "cell_type": "markdown",
      "source": [
        "# RandomForestClassifier\n"
      ],
      "metadata": {
        "id": "YM8Zs5R_oj9V"
      }
    },
    {
      "cell_type": "code",
      "source": [
        "rf = RandomForestClassifier(featuresCol=\"features\", labelCol=\"price_range\")\n",
        "pipeline = Pipeline(stages=[assembler, rf])\n",
        "rf_model = pipeline.fit(train_df)"
      ],
      "metadata": {
        "id": "DsOfBUwporBZ"
      },
      "execution_count": null,
      "outputs": []
    },
    {
      "cell_type": "code",
      "source": [
        "rf_prediction = rf_model.transform(test_df)\n",
        "rf_prediction.select(\"prediction\", \"price_range\", \"features\").show()"
      ],
      "metadata": {
        "colab": {
          "base_uri": "https://localhost:8080/"
        },
        "id": "TIWysSRepOp9",
        "outputId": "cad4f21c-b812-47d1-88a8-a62cc61e4741"
      },
      "execution_count": null,
      "outputs": [
        {
          "output_type": "stream",
          "name": "stdout",
          "text": [
            "+----------+-----------+--------------------+\n",
            "|prediction|price_range|            features|\n",
            "+----------+-----------+--------------------+\n",
            "|       2.0|          1|[501.0,0.0,2.2999...|\n",
            "|       2.0|          2|[501.0,1.0,0.5,1....|\n",
            "|       2.0|          1|[503.0,0.0,1.2000...|\n",
            "|       0.0|          0|[503.0,0.0,2.5,0....|\n",
            "|       0.0|          0|[504.0,1.0,0.5,1....|\n",
            "|       2.0|          2|[504.0,1.0,2.7999...|\n",
            "|       1.0|          1|[507.0,1.0,1.8999...|\n",
            "|       0.0|          0|[508.0,0.0,0.8000...|\n",
            "|       1.0|          1|[508.0,1.0,1.2999...|\n",
            "|       3.0|          3|[510.0,1.0,2.0,1....|\n",
            "|       3.0|          2|[511.0,0.0,0.6999...|\n",
            "|       0.0|          0|[511.0,1.0,0.6000...|\n",
            "|       0.0|          0|[513.0,1.0,0.5,0....|\n",
            "|       3.0|          3|[514.0,1.0,1.6000...|\n",
            "|       0.0|          0|[516.0,0.0,1.1000...|\n",
            "|       3.0|          2|[516.0,1.0,0.6999...|\n",
            "|       3.0|          3|[517.0,0.0,1.3999...|\n",
            "|       0.0|          0|[523.0,0.0,2.5999...|\n",
            "|       0.0|          0|[527.0,0.0,0.6999...|\n",
            "|       2.0|          2|[528.0,0.0,1.7000...|\n",
            "+----------+-----------+--------------------+\n",
            "only showing top 20 rows\n",
            "\n"
          ]
        }
      ]
    },
    {
      "cell_type": "code",
      "source": [
        "evaluator_accuracy = MulticlassClassificationEvaluator(predictionCol=\"prediction\", labelCol=\"price_range\", metricName=\"accuracy\")\n",
        "accuracy = evaluator_accuracy.evaluate(rf_prediction)\n",
        "print(\"Accuracy:\", accuracy)\n",
        "\n",
        "# Для F1-score (F1-меры)\n",
        "evaluator_f1 = MulticlassClassificationEvaluator(predictionCol=\"prediction\", labelCol=\"price_range\", metricName=\"f1\")\n",
        "f1_score = evaluator_f1.evaluate(rf_prediction)\n",
        "print(\"F1-score:\", f1_score)"
      ],
      "metadata": {
        "colab": {
          "base_uri": "https://localhost:8080/"
        },
        "id": "5TJz_hJAq3w3",
        "outputId": "ab0df1cd-9d97-4ffa-9b20-343b330b2e83"
      },
      "execution_count": null,
      "outputs": [
        {
          "output_type": "stream",
          "name": "stdout",
          "text": [
            "Accuracy: 0.8172920065252854\n",
            "F1-score: 0.8146087514458515\n"
          ]
        }
      ]
    },
    {
      "cell_type": "markdown",
      "source": [
        "# Логистическая регрессия"
      ],
      "metadata": {
        "id": "qkfEOrUOgsGY"
      }
    },
    {
      "cell_type": "code",
      "source": [
        "lr  = LogisticRegression(featuresCol=\"features\", labelCol=\"price_range\")\n",
        "pipeline = Pipeline(stages=[assembler, lr])\n",
        "lr_model = pipeline.fit(train_df)"
      ],
      "metadata": {
        "id": "lSm2fLlV3zxw"
      },
      "execution_count": null,
      "outputs": []
    },
    {
      "cell_type": "code",
      "source": [
        "lr_prediction = lr_model.transform(test_df)\n",
        "lr_prediction.select(\"prediction\", \"price_range\", \"features\").show()"
      ],
      "metadata": {
        "id": "OtVbv1xD5a66",
        "outputId": "c5253cd9-dacf-4a45-a426-74b72322e400",
        "colab": {
          "base_uri": "https://localhost:8080/"
        }
      },
      "execution_count": null,
      "outputs": [
        {
          "output_type": "stream",
          "name": "stdout",
          "text": [
            "+----------+-----------+--------------------+\n",
            "|prediction|price_range|            features|\n",
            "+----------+-----------+--------------------+\n",
            "|       1.0|          1|[501.0,0.0,2.2999...|\n",
            "|       2.0|          2|[501.0,1.0,0.5,1....|\n",
            "|       1.0|          1|[503.0,0.0,1.2000...|\n",
            "|       0.0|          0|[503.0,0.0,2.5,0....|\n",
            "|       0.0|          0|[504.0,1.0,0.5,1....|\n",
            "|       2.0|          2|[504.0,1.0,2.7999...|\n",
            "|       1.0|          1|[507.0,1.0,1.8999...|\n",
            "|       0.0|          0|[508.0,0.0,0.8000...|\n",
            "|       1.0|          1|[508.0,1.0,1.2999...|\n",
            "|       3.0|          3|[510.0,1.0,2.0,1....|\n",
            "|       2.0|          2|[511.0,0.0,0.6999...|\n",
            "|       0.0|          0|[511.0,1.0,0.6000...|\n",
            "|       0.0|          0|[513.0,1.0,0.5,0....|\n",
            "|       3.0|          3|[514.0,1.0,1.6000...|\n",
            "|       0.0|          0|[516.0,0.0,1.1000...|\n",
            "|       2.0|          2|[516.0,1.0,0.6999...|\n",
            "|       3.0|          3|[517.0,0.0,1.3999...|\n",
            "|       0.0|          0|[523.0,0.0,2.5999...|\n",
            "|       0.0|          0|[527.0,0.0,0.6999...|\n",
            "|       2.0|          2|[528.0,0.0,1.7000...|\n",
            "+----------+-----------+--------------------+\n",
            "only showing top 20 rows\n",
            "\n"
          ]
        }
      ]
    },
    {
      "cell_type": "code",
      "source": [
        "evaluator_accuracy = MulticlassClassificationEvaluator(predictionCol=\"prediction\", labelCol=\"price_range\", metricName=\"accuracy\")\n",
        "accuracy = evaluator_accuracy.evaluate(lr_prediction)\n",
        "print(\"Accuracy\", accuracy)"
      ],
      "metadata": {
        "colab": {
          "base_uri": "https://localhost:8080/"
        },
        "id": "-ryRCgJX85mR",
        "outputId": "bd00c045-ba90-4f71-a714-363b6b0a8357"
      },
      "execution_count": null,
      "outputs": [
        {
          "output_type": "stream",
          "name": "stdout",
          "text": [
            "Accuracy 0.9608482871125612\n"
          ]
        }
      ]
    },
    {
      "cell_type": "code",
      "source": [
        "# Оценка F1-меры\n",
        "evaluator_f1 = MulticlassClassificationEvaluator(predictionCol=\"prediction\", labelCol=\"price_range\", metricName=\"f1\")\n",
        "f1_score = evaluator_f1.evaluate(lr_prediction)\n",
        "print(\"F1-score:\", f1_score)"
      ],
      "metadata": {
        "colab": {
          "base_uri": "https://localhost:8080/"
        },
        "id": "LRumbDfECRLW",
        "outputId": "eb202d09-475f-48a8-9f9c-b4df8c0e3b12"
      },
      "execution_count": null,
      "outputs": [
        {
          "output_type": "stream",
          "name": "stdout",
          "text": [
            "F1-score: 0.9607421237811605\n"
          ]
        }
      ]
    },
    {
      "cell_type": "code",
      "source": [
        "lr_model.write().overwrite().save('lr_model')"
      ],
      "metadata": {
        "id": "4L948P0S2fV0"
      },
      "execution_count": null,
      "outputs": []
    },
    {
      "cell_type": "code",
      "source": [
        "!zip -r /content/lr_model.zip lr_model"
      ],
      "metadata": {
        "colab": {
          "base_uri": "https://localhost:8080/"
        },
        "id": "rugCawRuGQXO",
        "outputId": "1fc190e5-0d7d-422e-bc02-3c8036c81cf6"
      },
      "execution_count": null,
      "outputs": [
        {
          "output_type": "stream",
          "name": "stdout",
          "text": [
            "  adding: lr_model/ (stored 0%)\n",
            "  adding: lr_model/metadata/ (stored 0%)\n",
            "  adding: lr_model/metadata/part-00000 (deflated 22%)\n",
            "  adding: lr_model/metadata/_SUCCESS (stored 0%)\n",
            "  adding: lr_model/metadata/._SUCCESS.crc (stored 0%)\n",
            "  adding: lr_model/metadata/.part-00000.crc (stored 0%)\n",
            "  adding: lr_model/stages/ (stored 0%)\n",
            "  adding: lr_model/stages/0_VectorAssembler_9aefcf367bab/ (stored 0%)\n",
            "  adding: lr_model/stages/0_VectorAssembler_9aefcf367bab/metadata/ (stored 0%)\n",
            "  adding: lr_model/stages/0_VectorAssembler_9aefcf367bab/metadata/part-00000 (deflated 39%)\n",
            "  adding: lr_model/stages/0_VectorAssembler_9aefcf367bab/metadata/_SUCCESS (stored 0%)\n",
            "  adding: lr_model/stages/0_VectorAssembler_9aefcf367bab/metadata/._SUCCESS.crc (stored 0%)\n",
            "  adding: lr_model/stages/0_VectorAssembler_9aefcf367bab/metadata/.part-00000.crc (stored 0%)\n",
            "  adding: lr_model/stages/1_LogisticRegression_1aa3c8130e15/ (stored 0%)\n",
            "  adding: lr_model/stages/1_LogisticRegression_1aa3c8130e15/data/ (stored 0%)\n",
            "  adding: lr_model/stages/1_LogisticRegression_1aa3c8130e15/data/_SUCCESS (stored 0%)\n",
            "  adding: lr_model/stages/1_LogisticRegression_1aa3c8130e15/data/._SUCCESS.crc (stored 0%)\n",
            "  adding: lr_model/stages/1_LogisticRegression_1aa3c8130e15/data/part-00000-c5d9d59b-d575-43de-9a1e-cfe031e5e06c-c000.snappy.parquet (deflated 59%)\n",
            "  adding: lr_model/stages/1_LogisticRegression_1aa3c8130e15/data/.part-00000-c5d9d59b-d575-43de-9a1e-cfe031e5e06c-c000.snappy.parquet.crc (stored 0%)\n",
            "  adding: lr_model/stages/1_LogisticRegression_1aa3c8130e15/metadata/ (stored 0%)\n",
            "  adding: lr_model/stages/1_LogisticRegression_1aa3c8130e15/metadata/part-00000 (deflated 43%)\n",
            "  adding: lr_model/stages/1_LogisticRegression_1aa3c8130e15/metadata/_SUCCESS (stored 0%)\n",
            "  adding: lr_model/stages/1_LogisticRegression_1aa3c8130e15/metadata/._SUCCESS.crc (stored 0%)\n",
            "  adding: lr_model/stages/1_LogisticRegression_1aa3c8130e15/metadata/.part-00000.crc (stored 0%)\n"
          ]
        }
      ]
    }
  ]
}