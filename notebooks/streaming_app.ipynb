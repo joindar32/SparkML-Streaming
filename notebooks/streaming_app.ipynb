{
  "nbformat": 4,
  "nbformat_minor": 0,
  "metadata": {
    "colab": {
      "provenance": []
    },
    "kernelspec": {
      "name": "python3",
      "display_name": "Python 3"
    },
    "language_info": {
      "name": "python"
    }
  },
  "cells": [
    {
      "cell_type": "code",
      "execution_count": null,
      "metadata": {
        "colab": {
          "base_uri": "https://localhost:8080/"
        },
        "id": "fpR4BX6WR4MO",
        "outputId": "ea93e602-9fab-4859-b877-7f8ebeba5395"
      },
      "outputs": [
        {
          "output_type": "stream",
          "name": "stdout",
          "text": [
            "Collecting pyspark\n",
            "  Downloading pyspark-3.5.2.tar.gz (317.3 MB)\n",
            "\u001b[2K     \u001b[90m━━━━━━━━━━━━━━━━━━━━━━━━━━━━━━━━━━━━━━━━\u001b[0m \u001b[32m317.3/317.3 MB\u001b[0m \u001b[31m4.2 MB/s\u001b[0m eta \u001b[36m0:00:00\u001b[0m\n",
            "\u001b[?25h  Preparing metadata (setup.py) ... \u001b[?25l\u001b[?25hdone\n",
            "Requirement already satisfied: py4j==0.10.9.7 in /usr/local/lib/python3.10/dist-packages (from pyspark) (0.10.9.7)\n",
            "Building wheels for collected packages: pyspark\n",
            "  Building wheel for pyspark (setup.py) ... \u001b[?25l\u001b[?25hdone\n",
            "  Created wheel for pyspark: filename=pyspark-3.5.2-py2.py3-none-any.whl size=317812365 sha256=ec14d61aef503e302f08da711d5282121df24bff672c5134d7c3a28ffd71b960\n",
            "  Stored in directory: /root/.cache/pip/wheels/34/34/bd/03944534c44b677cd5859f248090daa9fb27b3c8f8e5f49574\n",
            "Successfully built pyspark\n",
            "Installing collected packages: pyspark\n",
            "Successfully installed pyspark-3.5.2\n"
          ]
        }
      ],
      "source": [
        "!pip install pyspark"
      ]
    },
    {
      "cell_type": "code",
      "source": [
        "import os\n",
        "import time\n",
        "import shutil\n",
        "import zipfile\n",
        "from pyspark.sql import SparkSession\n",
        "from pyspark.ml import PipelineModel\n",
        "from pyspark.sql.types import StructType, StructField, IntegerType, FloatType"
      ],
      "metadata": {
        "id": "XSfI4d5tR-Am"
      },
      "execution_count": 14,
      "outputs": []
    },
    {
      "cell_type": "code",
      "source": [
        "spark = SparkSession.builder.appName(\"StreamingModelApp\").getOrCreate()\n",
        "\n",
        "# Определение схемы данных\n",
        "schema = StructType([\n",
        "    StructField('battery_power', IntegerType(), True),\n",
        "    StructField('blue', IntegerType(), True),\n",
        "    StructField('clock_speed', FloatType(), True),\n",
        "    StructField('dual_sim', IntegerType(), True),\n",
        "    StructField('fc', IntegerType(), True),\n",
        "    StructField('four_g', IntegerType(), True),\n",
        "    StructField('int_memory', IntegerType(), True),\n",
        "    StructField('m_dep', FloatType(), True),\n",
        "    StructField('mobile_wt', IntegerType(), True),\n",
        "    StructField('n_cores', IntegerType(), True),\n",
        "    StructField('pc', IntegerType(), True),\n",
        "    StructField('px_height', IntegerType(), True),\n",
        "    StructField('px_width', IntegerType(), True),\n",
        "    StructField('ram', IntegerType(), True),\n",
        "    StructField('sc_h', IntegerType(), True),\n",
        "    StructField('sc_w', IntegerType(), True),\n",
        "    StructField('talk_time', IntegerType(), True),\n",
        "    StructField('three_g', IntegerType(), True),\n",
        "    StructField('touch_screen', IntegerType(), True),\n",
        "    StructField('wifi', IntegerType(), True),\n",
        "    StructField('price_range', IntegerType(), True)\n",
        "])"
      ],
      "metadata": {
        "id": "Mny6lbJmSBht"
      },
      "execution_count": 15,
      "outputs": []
    },
    {
      "cell_type": "code",
      "source": [
        "data_path = \"train.csv\"\n",
        "\n",
        "df = spark.read.format(\"csv\").schema(schema).option(\"header\", \"true\").load(data_path)\n",
        "\n",
        "\n",
        "train_df, test_df, test2_df = df.randomSplit([0.5, 0.3, 0.2], seed=42)\n"
      ],
      "metadata": {
        "id": "EIODqcvOSBzR"
      },
      "execution_count": 16,
      "outputs": []
    },
    {
      "cell_type": "code",
      "source": [
        "streaming_path = \"streaming_data\"\n",
        "if os.path.exists(streaming_path):\n",
        "    shutil.rmtree(streaming_path)\n",
        "os.makedirs(streaming_path, exist_ok=True)\n",
        "\n",
        "def save_test_data_in_batches(test2_df, batch_size, output_dir):\n",
        "    test2_df = test2_df.cache()\n",
        "    total_rows = test2_df.count()\n",
        "    num_batches = (total_rows // batch_size) + 1\n",
        "    for i in range(num_batches):\n",
        "        batch_df = test2_df.limit(batch_size)\n",
        "        batch_file_path = os.path.join(output_dir, f\"batch_{i}\")\n",
        "        batch_df.write.csv(batch_file_path, mode=\"overwrite\", header=True)\n",
        "        test2_df = test2_df.subtract(batch_df)\n",
        "\n",
        "save_test_data_in_batches(test2_df, batch_size=100, output_dir=streaming_path)\n"
      ],
      "metadata": {
        "id": "CKeVL6BtSB-O"
      },
      "execution_count": 17,
      "outputs": []
    },
    {
      "cell_type": "code",
      "source": [
        "model_zip_path = 'lr_model.zip'\n",
        "unzipped_model_path = 'unzipped_model'\n",
        "\n",
        "# Распаковка модели\n",
        "if os.path.exists(unzipped_model_path):\n",
        "    shutil.rmtree(unzipped_model_path)\n",
        "os.makedirs(unzipped_model_path, exist_ok=True)\n",
        "\n",
        "with zipfile.ZipFile(model_zip_path, 'r') as zip_ref:\n",
        "    zip_ref.extractall(unzipped_model_path)\n"
      ],
      "metadata": {
        "id": "kJfPAaKuSCPN"
      },
      "execution_count": 18,
      "outputs": []
    },
    {
      "cell_type": "code",
      "source": [
        "model_path = os.path.join(unzipped_model_path, \"lr_model\")\n",
        "model = PipelineModel.load(model_path)\n",
        "\n",
        "streaming_df = spark.readStream.format(\"csv\").schema(schema).option(\"header\", \"true\").load(streaming_path)\n",
        "\n",
        "predictions = model.transform(streaming_df)\n"
      ],
      "metadata": {
        "id": "JqUxDG_kSCbF"
      },
      "execution_count": 19,
      "outputs": []
    },
    {
      "cell_type": "code",
      "source": [
        "query = predictions.writeStream \\\n",
        "    .queryName(\"predictions\") \\\n",
        "    .outputMode(\"append\") \\\n",
        "    .format(\"memory\") \\\n",
        "    .start()\n",
        "\n",
        "def add_new_files_from_batch(batch_dir, destination):\n",
        "    for file_name in os.listdir(batch_dir):\n",
        "        full_file_name = os.path.join(batch_dir, file_name)\n",
        "        if os.path.isfile(full_file_name):\n",
        "            shutil.copy(full_file_name, destination)\n",
        "\n"
      ],
      "metadata": {
        "id": "sWbB_JzPSCs2"
      },
      "execution_count": 20,
      "outputs": []
    },
    {
      "cell_type": "code",
      "source": [
        "batch_dirs = sorted(os.listdir(streaming_path))\n",
        "for batch_dir in batch_dirs:\n",
        "    add_new_files_from_batch(os.path.join(streaming_path, batch_dir), streaming_path)\n",
        "    time.sleep(10)  # Ждем 10 секунд перед добавлением нового файла\n",
        "\n",
        "\n",
        "for _ in range(5):\n",
        "    spark.sql(\"SELECT  features, prediction FROM predictions\").show(5, truncate=False)\n",
        "    time.sleep(7)\n",
        "\n",
        "query.awaitTermination()"
      ],
      "metadata": {
        "colab": {
          "base_uri": "https://localhost:8080/"
        },
        "id": "b9BlnAUESC7H",
        "outputId": "487d60f7-3287-4f3e-939f-c5841813ff40"
      },
      "execution_count": null,
      "outputs": [
        {
          "output_type": "stream",
          "name": "stdout",
          "text": [
            "+-----------------------------------------------------------------------------------------------------------------------------+----------+\n",
            "|features                                                                                                                     |prediction|\n",
            "+-----------------------------------------------------------------------------------------------------------------------------+----------+\n",
            "|[502.0,0.0,0.800000011920929,0.0,7.0,0.0,52.0,1.0,82.0,6.0,8.0,281.0,1159.0,2666.0,5.0,4.0,20.0,1.0,1.0,0.0]                 |1.0       |\n",
            "|[503.0,1.0,1.7999999523162842,1.0,1.0,1.0,13.0,0.699999988079071,131.0,1.0,4.0,1495.0,1688.0,3117.0,19.0,6.0,9.0,1.0,0.0,1.0]|3.0       |\n",
            "|[504.0,1.0,0.5,1.0,2.0,1.0,46.0,0.8999999761581421,172.0,5.0,14.0,280.0,1795.0,2085.0,13.0,5.0,8.0,1.0,0.0,0.0]              |1.0       |\n",
            "|[507.0,1.0,0.5,1.0,1.0,0.0,32.0,0.5,141.0,7.0,11.0,936.0,1398.0,1702.0,17.0,0.0,5.0,1.0,1.0,1.0]                             |1.0       |\n",
            "|[510.0,0.0,1.7000000476837158,1.0,3.0,0.0,35.0,0.800000011920929,120.0,3.0,6.0,382.0,1228.0,2509.0,17.0,2.0,11.0,0.0,1.0,1.0]|1.0       |\n",
            "+-----------------------------------------------------------------------------------------------------------------------------+----------+\n",
            "only showing top 5 rows\n",
            "\n",
            "+-----------------------------------------------------------------------------------------------------------------------------+----------+\n",
            "|features                                                                                                                     |prediction|\n",
            "+-----------------------------------------------------------------------------------------------------------------------------+----------+\n",
            "|[502.0,0.0,0.800000011920929,0.0,7.0,0.0,52.0,1.0,82.0,6.0,8.0,281.0,1159.0,2666.0,5.0,4.0,20.0,1.0,1.0,0.0]                 |1.0       |\n",
            "|[503.0,1.0,1.7999999523162842,1.0,1.0,1.0,13.0,0.699999988079071,131.0,1.0,4.0,1495.0,1688.0,3117.0,19.0,6.0,9.0,1.0,0.0,1.0]|3.0       |\n",
            "|[504.0,1.0,0.5,1.0,2.0,1.0,46.0,0.8999999761581421,172.0,5.0,14.0,280.0,1795.0,2085.0,13.0,5.0,8.0,1.0,0.0,0.0]              |1.0       |\n",
            "|[507.0,1.0,0.5,1.0,1.0,0.0,32.0,0.5,141.0,7.0,11.0,936.0,1398.0,1702.0,17.0,0.0,5.0,1.0,1.0,1.0]                             |1.0       |\n",
            "|[510.0,0.0,1.7000000476837158,1.0,3.0,0.0,35.0,0.800000011920929,120.0,3.0,6.0,382.0,1228.0,2509.0,17.0,2.0,11.0,0.0,1.0,1.0]|1.0       |\n",
            "+-----------------------------------------------------------------------------------------------------------------------------+----------+\n",
            "only showing top 5 rows\n",
            "\n",
            "+-----------------------------------------------------------------------------------------------------------------------------+----------+\n",
            "|features                                                                                                                     |prediction|\n",
            "+-----------------------------------------------------------------------------------------------------------------------------+----------+\n",
            "|[502.0,0.0,0.800000011920929,0.0,7.0,0.0,52.0,1.0,82.0,6.0,8.0,281.0,1159.0,2666.0,5.0,4.0,20.0,1.0,1.0,0.0]                 |1.0       |\n",
            "|[503.0,1.0,1.7999999523162842,1.0,1.0,1.0,13.0,0.699999988079071,131.0,1.0,4.0,1495.0,1688.0,3117.0,19.0,6.0,9.0,1.0,0.0,1.0]|3.0       |\n",
            "|[504.0,1.0,0.5,1.0,2.0,1.0,46.0,0.8999999761581421,172.0,5.0,14.0,280.0,1795.0,2085.0,13.0,5.0,8.0,1.0,0.0,0.0]              |1.0       |\n",
            "|[507.0,1.0,0.5,1.0,1.0,0.0,32.0,0.5,141.0,7.0,11.0,936.0,1398.0,1702.0,17.0,0.0,5.0,1.0,1.0,1.0]                             |1.0       |\n",
            "|[510.0,0.0,1.7000000476837158,1.0,3.0,0.0,35.0,0.800000011920929,120.0,3.0,6.0,382.0,1228.0,2509.0,17.0,2.0,11.0,0.0,1.0,1.0]|1.0       |\n",
            "+-----------------------------------------------------------------------------------------------------------------------------+----------+\n",
            "only showing top 5 rows\n",
            "\n",
            "+-----------------------------------------------------------------------------------------------------------------------------+----------+\n",
            "|features                                                                                                                     |prediction|\n",
            "+-----------------------------------------------------------------------------------------------------------------------------+----------+\n",
            "|[502.0,0.0,0.800000011920929,0.0,7.0,0.0,52.0,1.0,82.0,6.0,8.0,281.0,1159.0,2666.0,5.0,4.0,20.0,1.0,1.0,0.0]                 |1.0       |\n",
            "|[503.0,1.0,1.7999999523162842,1.0,1.0,1.0,13.0,0.699999988079071,131.0,1.0,4.0,1495.0,1688.0,3117.0,19.0,6.0,9.0,1.0,0.0,1.0]|3.0       |\n",
            "|[504.0,1.0,0.5,1.0,2.0,1.0,46.0,0.8999999761581421,172.0,5.0,14.0,280.0,1795.0,2085.0,13.0,5.0,8.0,1.0,0.0,0.0]              |1.0       |\n",
            "|[507.0,1.0,0.5,1.0,1.0,0.0,32.0,0.5,141.0,7.0,11.0,936.0,1398.0,1702.0,17.0,0.0,5.0,1.0,1.0,1.0]                             |1.0       |\n",
            "|[510.0,0.0,1.7000000476837158,1.0,3.0,0.0,35.0,0.800000011920929,120.0,3.0,6.0,382.0,1228.0,2509.0,17.0,2.0,11.0,0.0,1.0,1.0]|1.0       |\n",
            "+-----------------------------------------------------------------------------------------------------------------------------+----------+\n",
            "only showing top 5 rows\n",
            "\n",
            "+-----------------------------------------------------------------------------------------------------------------------------+----------+\n",
            "|features                                                                                                                     |prediction|\n",
            "+-----------------------------------------------------------------------------------------------------------------------------+----------+\n",
            "|[502.0,0.0,0.800000011920929,0.0,7.0,0.0,52.0,1.0,82.0,6.0,8.0,281.0,1159.0,2666.0,5.0,4.0,20.0,1.0,1.0,0.0]                 |1.0       |\n",
            "|[503.0,1.0,1.7999999523162842,1.0,1.0,1.0,13.0,0.699999988079071,131.0,1.0,4.0,1495.0,1688.0,3117.0,19.0,6.0,9.0,1.0,0.0,1.0]|3.0       |\n",
            "|[504.0,1.0,0.5,1.0,2.0,1.0,46.0,0.8999999761581421,172.0,5.0,14.0,280.0,1795.0,2085.0,13.0,5.0,8.0,1.0,0.0,0.0]              |1.0       |\n",
            "|[507.0,1.0,0.5,1.0,1.0,0.0,32.0,0.5,141.0,7.0,11.0,936.0,1398.0,1702.0,17.0,0.0,5.0,1.0,1.0,1.0]                             |1.0       |\n",
            "|[510.0,0.0,1.7000000476837158,1.0,3.0,0.0,35.0,0.800000011920929,120.0,3.0,6.0,382.0,1228.0,2509.0,17.0,2.0,11.0,0.0,1.0,1.0]|1.0       |\n",
            "+-----------------------------------------------------------------------------------------------------------------------------+----------+\n",
            "only showing top 5 rows\n",
            "\n"
          ]
        }
      ]
    }
  ]
}